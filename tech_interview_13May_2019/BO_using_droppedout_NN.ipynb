{
 
 
 
 "cells": [
  {
   "cell_type": "code",
   "execution_count": 2,
   "metadata": {},
   "outputs": [
    {
     "name": "stderr",
     "output_type": "stream",
     "text": [
      "/home/lisov/anaconda2/envs/py36/lib/python3.6/site-packages/sklearn/cross_validation.py:41: DeprecationWarning: This module was deprecated in version 0.18 in favor of the model_selection module into which all the refactored classes and functions are moved. Also note that the interface of the new CV iterators are different from that of this module. This module will be removed in 0.20.\n",
      "  \"This module will be removed in 0.20.\", DeprecationWarning)\n"
     ]
    },
    {
     "name": "stdout",
     "output_type": "stream",
     "text": [
      "Populating the interactive namespace from numpy and matplotlib\n"
     ]
    }
   ],
   "source": [
    "import pandas as pd\n",
    "import numpy as np\n",
    "import tensorflow as tf\n",
    "from sklearn.metrics import mean_squared_error as mse\n",
    "from sklearn.cross_validation import train_test_split\n",
    "import time\n",
    "import sys\n",
    "import time\n",
    "import pickle\n",
    "\n",
    "try:\n",
    "    from matplotlib import cm\n",
    "    from matplotlib.ticker import LinearLocator, FormatStrFormatter\n",
    "    import matplotlib.pyplot as plt\n",
    "except:\n",
    "    pass\n",
    "\n",
    "%pylab inline\n",
    "import GPyOpt\n",
    "import GPy\n",
    "from scipy import optimize as opt"
   ]
  },
  {
   "cell_type": "markdown",
   "metadata": {},
   "source": [
    "# Rosenbrock to optimize"
   ]
  },
  {
   "cell_type": "code",
   "execution_count": 33,
   "metadata": {},
   "outputs": [],
   "source": [
    "def reshape(x,input_dim):\n",
    "    x = np.array(x)\n",
    "    if x.size ==input_dim:\n",
    "        x = x.reshape((1,input_dim))\n",
    "    return x"
   ]
  },
  {
   "cell_type": "code",
   "execution_count": 34,
   "metadata": {},
   "outputs": [],
   "source": [
    "### TWO_DIMENTIONAL ###\n",
    "\n",
    "class function2d:\n",
    "    \n",
    "    def plot(self):\n",
    "        bounds = self.bounds\n",
    "        x1 = np.linspace(bounds[0][0], bounds[0][1], 100)\n",
    "        x2 = np.linspace(bounds[1][0], bounds[1][1], 100)\n",
    "        X1, X2 = np.meshgrid(x1, x2)\n",
    "        X = np.hstack((X1.reshape(100*100,1),X2.reshape(100*100,1)))\n",
    "        Y = self.f(X)  \n",
    "            \n",
    "        plt.figure()    \n",
    "        plt.contourf(X1, X2, Y.reshape((100,100)),100)\n",
    "        if (len(self.min)>1):    \n",
    "            plt.plot(np.array(self.min)[:,0], np.array(self.min)[:,1], 'w.', markersize=20, label=u'Observations')\n",
    "        else:\n",
    "            plt.plot(self.min[0][0], self.min[0][1], 'w.', markersize=20, label=u'Observations')\n",
    "        plt.colorbar()\n",
    "        plt.xlabel('X1')\n",
    "        plt.ylabel('X2')\n",
    "        plt.title(self.name)\n",
    "        plt.show()\n",
    "\n",
    "\n",
    "class rosenbrock(function2d):\n",
    "\n",
    "    def __init__(self,bounds=None,sd=None):\n",
    "        self.input_dim = 2\n",
    "        if bounds is  None: self.bounds = [(-0.5,2),(-1.5,2)]\n",
    "        else: self.bounds = bounds\n",
    "        self.min = [(1, 1)]\n",
    "        self.fmin = 0\n",
    "        if sd==None: self.sd = 0\n",
    "        else: self.sd=sd\n",
    "        self.name = 'Rosenbrock'\n",
    "\n",
    "    def f(self,X):\n",
    "        X = reshape(X,self.input_dim)\n",
    "        n = X.shape[0]\n",
    "        if X.shape[1] != self.input_dim:\n",
    "            return 'Wrong input dimension'\n",
    "        else:\n",
    "            fval = 100*(X[:,1]-X[:,0]**2)**2 + (X[:,0]-1)**2\n",
    "            if self.sd ==0:\n",
    "                noise = np.zeros(n).reshape(n,1)\n",
    "            else:\n",
    "                noise = np.random.normal(0,self.sd,n).reshape(n,1)\n",
    "            return fval.reshape(n,1) + noise\n"
   ]
  },
  {
   "cell_type": "code",
   "execution_count": 35,
   "metadata": {},
   "outputs": [],
   "source": [
    "### N_DIMENTIONAL ###\n",
    "\n",
    "class rosenbrock_nd():\n",
    "\n",
    "    def __init__(self, n_dim, bounds, sd=None):\n",
    "        self.input_dim = n_dim\n",
    "        self.bounds = bounds\n",
    "        self.min = [1] * n_dim\n",
    "        self.fmin = 0\n",
    "        if sd==None: self.sd = 0\n",
    "        else: self.sd=sd\n",
    "        self.name = 'Rosenbrock_ND'\n",
    "\n",
    " \n",
    "    def f(self,X):\n",
    "        X = reshape(X,self.input_dim)\n",
    "        n = X.shape[0]\n",
    "        if X.shape[1] != self.input_dim:\n",
    "            return 'Wrong input dimension'\n",
    "        else:\n",
    "            fval = 100*(X[:,1]-X[:,0]**2)**2 + (X[:,0]-1)**2\n",
    "            if self.sd ==0:\n",
    "                noise = np.zeros(n).reshape(n,1)\n",
    "            else:\n",
    "                noise = np.random.normal(0,self.sd,n).reshape(n,1)\n",
    "            return fval.reshape(n,1) + noise"
   ]
  },
  {
   "cell_type": "markdown",
   "metadata": {},
   "source": [
    "# Different functions for optimization"
   ]
  },
  {
   "cell_type": "code",
   "execution_count": 62,
   "metadata": {},
   "outputs": [
    {
     "name": "stdout",
     "output_type": "stream",
     "text": [
      "[[0.]]\n"
     ]
    }
   ],
   "source": [
    "#ROSENBROCK TWO_DIM\n",
    "\n",
    "func = rosenbrock()\n",
    "X = (1, 1)\n",
    "print(func.f(X))"
   ]
  },
  {
   "cell_type": "code",
   "execution_count": 7,
   "metadata": {},
   "outputs": [
    {
     "name": "stdout",
     "output_type": "stream",
     "text": [
      "[[0.]]\n"
     ]
    }
   ],
   "source": [
    "#ROSENBROCK 4_DIM\n",
    "\n",
    "func_4d = rosenbrock_nd(4, ((0, 2), (0, 2), (0, 2), (0, 2)))\n",
    "print(func_4d.f((1, 1, 1, 1)))"
   ]
  },
  {
   "cell_type": "code",
   "execution_count": 36,
   "metadata": {},
   "outputs": [
    {
     "name": "stdout",
     "output_type": "stream",
     "text": [
      "[[0.]]\n"
     ]
    }
   ],
   "source": [
    "#ROSENBROCK 8_DIM\n",
    "\n",
    "func_8d = rosenbrock_nd(8, ((0, 2), (0, 2), (0, 2), (0, 2), (0, 2), (0, 2), (0, 2), (0, 2)))\n",
    "print(func_8d.f((1, 1, 1, 1, 1, 1, 1, 1)))"
   ]
  },
  {
   "cell_type": "code",
   "execution_count": 40,
   "metadata": {},
   "outputs": [
    {
     "data": {
      "text/plain": [
       "array([[0.39788736]])"
      ]
     },
     "execution_count": 40,
     "metadata": {},
     "output_type": "execute_result"
    }
   ],
   "source": [
    "#BRANIN\n",
    "\n",
    "func_br  = GPyOpt.objective_examples.experiments2d.branin()\n",
    "#func_br.plot()\n",
    "X = (9.42478,2.475)\n",
    "func_br.f(X)"
   ]
  },
  {
   "cell_type": "code",
   "execution_count": 80,
   "metadata": {},
   "outputs": [
    {
     "data": {
      "text/plain": [
       "array([[1.]])"
      ]
     },
     "execution_count": 80,
     "metadata": {},
     "output_type": "execute_result"
    }
   ],
   "source": [
    "#DROPWAVE\n",
    "\n",
    "func_drw  = GPyOpt.objective_examples.experiments2d.dropwave()\n",
    "X = (0, 0)\n",
    "func_drw.f(X)"
   ]
  },
  {
   "cell_type": "code",
   "execution_count": 5,
   "metadata": {},
   "outputs": [],
   "source": [
    "#SIX-HUMP CAMEL\n",
    "\n",
    "func_shc  = GPyOpt.objective_examples.experiments2d.sixhumpcamel()\n",
    "#func_shc.plot()"
   ]
  },
  {
   "cell_type": "markdown",
   "metadata": {},
   "source": [
    "# Creating the field"
   ]
  },
  {
   "cell_type": "code",
   "execution_count": 43,
   "metadata": {},
   "outputs": [],
   "source": [
    "#BRANIN\n",
    "\n",
    "num = 75\n",
    "x1 = np.linspace(-5, 10, num)\n",
    "x2 = np.linspace(0, 15, num)\n",
    "X1, X2 = np.meshgrid(x1, x2)\n",
    "\n",
    "X1_ = X1.reshape(num*num, 1)\n",
    "X2_ = X2.reshape(num*num, 1)\n",
    "X = np.hstack((X1_, X2_))\n",
    "\n",
    "Y = func_br.f(X)"
   ]
  },
  {
   "cell_type": "code",
   "execution_count": 44,
   "metadata": {},
   "outputs": [
    {
     "name": "stdout",
     "output_type": "stream",
     "text": [
      "Full shapes:((5625, 2), (5625, 1))\n"
     ]
    }
   ],
   "source": [
    "X_full = X.reshape(num*num, 2)\n",
    "y_full = Y\n",
    "print(f'Full shapes:{X_full.shape, y_full.shape}')"
   ]
  },
  {
   "cell_type": "code",
   "execution_count": 83,
   "metadata": {},
   "outputs": [],
   "source": [
    "#DROPWAVE\n",
    "\n",
    "num = 40\n",
    "x1 = np.linspace(-1, 1, num)\n",
    "x2 = np.linspace(-1, 1, num)\n",
    "X1, X2 = np.meshgrid(x1, x2)\n",
    "\n",
    "X1_ = X1.reshape(num*num, 1)\n",
    "X2_ = X2.reshape(num*num, 1)\n",
    "X = np.hstack((X1_, X2_))\n",
    "\n",
    "Y = func_drw.f(X)"
   ]
  },
  {
   "cell_type": "code",
   "execution_count": 84,
   "metadata": {},
   "outputs": [
    {
     "name": "stdout",
     "output_type": "stream",
     "text": [
      "Full shapes:((1600, 2), (1600, 1))\n"
     ]
    }
   ],
   "source": [
    "X_full = X.reshape(num*num, 2)\n",
    "y_full = Y\n",
    "print(f'Full shapes:{X_full.shape, y_full.shape}')"
   ]
  },
  {
   "cell_type": "code",
   "execution_count": 6,
   "metadata": {},
   "outputs": [],
   "source": [
    "#SIX-HUMP CAMEL\n",
    "\n",
    "num = 50\n",
    "x1 = np.linspace(-1, 1, num)\n",
    "x2 = np.linspace(-2, 2, num)\n",
    "X1, X2 = np.meshgrid(x1, x2)\n",
    "\n",
    "X1_ = X1.reshape(num*num, 1)\n",
    "X2_ = X2.reshape(num*num, 1)\n",
    "X = np.hstack((X1_, X2_))\n",
    "\n",
    "Y = func_shc.f(X)"
   ]
  },
  {
   "cell_type": "code",
   "execution_count": 7,
   "metadata": {},
   "outputs": [
    {
     "name": "stdout",
     "output_type": "stream",
     "text": [
      "Full shapes:((2500, 2), (2500, 1))\n"
     ]
    }
   ],
   "source": [
    "X_full = X.reshape(num*num, 2)\n",
    "y_full = Y\n",
    "print(f'Full shapes:{X_full.shape, y_full.shape}')"
   ]
  },
  {
   "cell_type": "code",
   "execution_count": 63,
   "metadata": {},
   "outputs": [],
   "source": [
    "#ROSENBROCK TWO_DIM\n",
    "\n",
    "num = 20\n",
    "x1 = np.linspace(0, 2, num)\n",
    "x2 = np.linspace(0, 2, num)\n",
    "X1, X2 = np.meshgrid(x1, x2)\n",
    "\n",
    "X1_ = X1.reshape(num*num, 1)\n",
    "X2_ = X2.reshape(num*num, 1)\n",
    "X = np.hstack((X1_, X2_))\n",
    "\n",
    "Y = func.f(X)"
   ]
  },
  {
   "cell_type": "code",
   "execution_count": 64,
   "metadata": {},
   "outputs": [
    {
     "name": "stdout",
     "output_type": "stream",
     "text": [
      "Full shapes:((400, 2), (400, 1))\n"
     ]
    }
   ],
   "source": [
    "X_full = X.reshape(num*num, 2)\n",
    "y_full = Y\n",
    "print(f'Full shapes:{X_full.shape, y_full.shape}')"
   ]
  },
  {
   "cell_type": "code",
   "execution_count": 16,
   "metadata": {},
   "outputs": [],
   "source": [
    "#ROSENBROCK 4_DIM\n",
    "\n",
    "n_dim = 4    #size_of dimention\n",
    "num = 10   #number of samples in the bounds\n",
    "\n",
    "x1 = np.linspace(-1, 3, num)\n",
    "x2 = np.linspace(-1, 3, num)\n",
    "x3 = np.linspace(-1, 3, num)\n",
    "x4 = np.linspace(-1, 3, num)\n",
    "X1, X2, X3, X4 = np.meshgrid(x1, x2, x3, x4)\n",
    "\n",
    "X1_ = X1.reshape(num**4, 1)\n",
    "X2_ = X2.reshape(num**4, 1)\n",
    "X3_ = X3.reshape(num**4, 1)\n",
    "X4_ = X4.reshape(num**4, 1)\n",
    "\n",
    "X_a = np.hstack((X1_, X2_))\n",
    "X_b = np.hstack((X3_, X4_))\n",
    "X   = np.hstack((X_a, X_b))\n",
    "#print(X)\n",
    "\n",
    "Y = func_4d.f(X)"
   ]
  },
  {
   "cell_type": "code",
   "execution_count": 17,
   "metadata": {},
   "outputs": [
    {
     "name": "stdout",
     "output_type": "stream",
     "text": [
      "Train shapes:((10000, 4), (10000, 1))\n"
     ]
    }
   ],
   "source": [
    "X_full = X.reshape(num**4, 4)\n",
    "y_full = Y\n",
    "print(f'Full shapes:{X_full.shape, y_full.shape}')"
   ]
  },
  {
   "cell_type": "code",
   "execution_count": 37,
   "metadata": {},
   "outputs": [
    {
     "name": "stdout",
     "output_type": "stream",
     "text": [
      "[[0.         0.         0.         ... 0.         0.         0.        ]\n",
      " [0.         0.         0.         ... 0.         0.         0.66666667]\n",
      " [0.         0.         0.         ... 0.         0.         1.33333333]\n",
      " ...\n",
      " [2.         2.         2.         ... 2.         2.         0.66666667]\n",
      " [2.         2.         2.         ... 2.         2.         1.33333333]\n",
      " [2.         2.         2.         ... 2.         2.         2.        ]]\n"
     ]
    }
   ],
   "source": [
    "#ROSENBROCK 8_DIM\n",
    "\n",
    "n_dim = 8    #size_of dimention\n",
    "num = 4   #number of samples in the bounds\n",
    "\n",
    "x1 = np.linspace(0,  2, num)\n",
    "x2 = np.linspace(0,  2, num)\n",
    "x3 = np.linspace(0,  2, num)\n",
    "x4 = np.linspace(0,  2, num)\n",
    "x5 = np.linspace(0,  2, num)\n",
    "x6 = np.linspace(0,  2, num)\n",
    "x7 = np.linspace(0,  2, num)\n",
    "x8 = np.linspace(0,  2, num)\n",
    "X1, X2, X3, X4, X5, X6, X7, X8 = np.meshgrid(x1, x2, x3, x4, x5, x6, x7, x8)\n",
    "\n",
    "X1_ = X1.reshape(num**8, 1)\n",
    "X2_ = X2.reshape(num**8, 1)\n",
    "X3_ = X3.reshape(num**8, 1)\n",
    "X4_ = X4.reshape(num**8, 1)\n",
    "X5_ = X5.reshape(num**8, 1)\n",
    "X6_ = X6.reshape(num**8, 1)\n",
    "X7_ = X7.reshape(num**8, 1)\n",
    "X8_ = X8.reshape(num**8, 1)\n",
    "\n",
    "X_a = np.hstack((X1_, X2_))\n",
    "X_b = np.hstack((X3_, X4_))\n",
    "X_c = np.hstack((X5_, X6_))\n",
    "X_d = np.hstack((X7_, X8_))\n",
    "\n",
    "X_aa = np.hstack((X_a, X_b))\n",
    "X_bb = np.hstack((X_c, X_d))\n",
    "\n",
    "X   = np.hstack((X_aa, X_bb))\n",
    "print(X)\n",
    "\n",
    "Y = func_8d.f(X)"
   ]
  },
  {
   "cell_type": "code",
   "execution_count": 38,
   "metadata": {},
   "outputs": [
    {
     "name": "stdout",
     "output_type": "stream",
     "text": [
      "Full shapes:((65536, 8), (65536, 1))\n"
     ]
    }
   ],
   "source": [
    "X_full = X.reshape(num**8, 8)\n",
    "y_full = Y\n",
    "print(f'Full shapes:{X_full.shape, y_full.shape}')"
   ]
  },
  {
   "cell_type": "markdown",
   "metadata": {},
   "source": [
    "# Train & test"
   ]
  },
  {
   "cell_type": "code",
   "execution_count": 39,
   "metadata": {},
   "outputs": [],
   "source": [
    "X_train, X_test, y_train, y_test = train_test_split(X_full, y_full, \n",
    "                                                    test_size=0.8, random_state=322)"
   ]
  },
  {
   "cell_type": "markdown",
   "metadata": {},
   "source": [
    "# Creating NN"
   ]
  },
  {
   "cell_type": "code",
   "execution_count": 40,
   "metadata": {},
   "outputs": [],
   "source": [
    "ndim = X_train.shape[1] #dimention\n",
    "layers = [256,128,128,128]\n",
    "\n",
    "learning_rate_decay = .97\n",
    "start_learning_rate = 3e-4\n",
    "learning_rate_schedule_epochs = 2000\n",
    "\n",
    "\n",
    "tf.reset_default_graph()  #Clears the default graph stack and resets the global default graph.\n",
    "\n",
    "# placeholders\n",
    "x = tf.placeholder(tf.float32, [None, ndim]) \n",
    "y_ = tf.placeholder(tf.float32, [None, 1])\n",
    "\n",
    "learning_rate_ = tf.placeholder(tf.float32)\n",
    "forces_coeff_ = tf.placeholder(tf.float32)\n",
    "keep_probability_ = tf.placeholder(tf.float32, name='keep_probability')\n",
    "l2_reg_ = tf.placeholder(tf.float32, name='l2reg')\n",
    "\n",
    "# weights\n",
    "W1 = tf.Variable(tf.truncated_normal([ndim, layers[0]], stddev=(2/ndim)**.5))\n",
    "b1 = tf.Variable(tf.truncated_normal([layers[0]],  stddev=.1))\n",
    "h1 = tf.nn.relu(tf.matmul(x, W1) + b1)\n",
    "h_drop1 = tf.nn.dropout(h1, keep_probability_, noise_shape = [1,layers[0]])\n",
    "Ws = [W1]; bs = [b1]; hs = [h_drop1]\n",
    "for cnt_layer in range(1, len(layers)):\n",
    "    Ws.append(tf.Variable(tf.truncated_normal([layers[cnt_layer - 1], layers[cnt_layer]], \n",
    "                                              stddev=(2/layers[cnt_layer - 1])**.5)))\n",
    "    bs.append(tf.Variable(tf.truncated_normal([layers[cnt_layer]],  stddev=.1))) \n",
    "    hs.append(tf.nn.dropout(tf.nn.relu(tf.matmul(hs[-1], Ws[-1]) + bs[-1]), keep_probability_,\n",
    "                            noise_shape = [1,layers[cnt_layer]])) # noise shape is important\n",
    "Ws.append(tf.Variable(tf.truncated_normal([layers[-1], 1], stddev=.1)))\n",
    "bs.append(tf.Variable(tf.truncated_normal([1],  stddev=.1)))\n",
    "\n",
    "# losses and outputs\n",
    "y = tf.matmul(hs[-1], Ws[-1]) + bs[-1]\n",
    "l2_regularizer = sum(tf.nn.l2_loss(Wxxx) for Wxxx in Ws) \n",
    "mse_e = tf.losses.mean_squared_error(predictions = y, labels = y_)\n",
    "loss = mse_e + l2_reg_*l2_regularizer\n",
    "\n",
    "# some extra stuff for learning rate decay\n",
    "global_step = tf.Variable(0, trainable=False)\n",
    "starter_learning_rate = start_learning_rate\n",
    "learning_rate = tf.train.exponential_decay(starter_learning_rate, global_step,\n",
    "                                           learning_rate_schedule_epochs, learning_rate_decay, staircase=True)\n",
    "#Applies exponential decay to the learning rate.\n",
    "\n",
    "lr_fun = lambda: learning_rate\n",
    "min_lr = lambda: tf.constant(1e-5)\n",
    "actual_lr = tf.case([(tf.less(learning_rate, tf.constant(1e-5)), min_lr)], default=lr_fun)\n",
    "\n",
    "train_step = tf.train.AdamOptimizer(learning_rate=actual_lr).minimize(loss, global_step=global_step)"
   ]
  },
  {
   "cell_type": "code",
   "execution_count": 45,
   "metadata": {},
   "outputs": [],
   "source": [
    "def iterate_minibatches(inputs, targets, batchsize, shuffle=True): # we need this to iterate over data\n",
    "    assert len(inputs) == len(targets)\n",
    "    if shuffle:\n",
    "        indices = np.arange(len(inputs))\n",
    "        np.random.shuffle(indices)\n",
    "    for start_idx in range(0, len(inputs) - batchsize + 1, batchsize):\n",
    "        if shuffle:\n",
    "            excerpt = indices[start_idx:start_idx + batchsize]\n",
    "        else:\n",
    "            excerpt = slice(start_idx, start_idx + batchsize)\n",
    "        yield inputs[excerpt], targets[excerpt]\n",
    "\n",
    "def get_errors(x_, y_): # return rmse, mae, maxae\n",
    "    return [np.sqrt(mse(x_, y_)), np.mean(np.abs(x_ - y_)), np.max(np.abs(x_ - y_))]\n",
    "\n",
    "def get_mcdues(X): # returns MCD UEs\n",
    "    stds = np.zeros((X.shape[0], T), dtype = float)\n",
    "    for cnt_ in range(T):\n",
    "        stds[:, cnt_] = np.ravel(sess.run(y, feed_dict={x: X, \n",
    "                                                        keep_probability_: .5}))\n",
    "    return np.std(stds, axis = 1)"
   ]
  },
  {
   "cell_type": "code",
   "execution_count": 42,
   "metadata": {},
   "outputs": [],
   "source": [
    "try:\n",
    "    sess.close()\n",
    "except:\n",
    "    pass\n",
    "\n",
    "config = tf.ConfigProto()\n",
    "config.gpu_options.allow_growth = True\n",
    "\n",
    "init = tf.global_variables_initializer()\n",
    "saver = tf.train.Saver()\n",
    "sess = tf.Session(config = config)\n",
    "sess.run(init)\n",
    "epoch = 0\n",
    "data = []"
   ]
  },
  {
   "cell_type": "code",
   "execution_count": 43,
   "metadata": {},
   "outputs": [],
   "source": [
    "batch_size = 1000 # please note that I used GPU and maybe you want to decrease the batch size to 200 or so\n",
    "init_epochs = 7000\n",
    "keep_probs = [.5, .75, .9]\n",
    "l2_reg = 1e-4\n",
    "check_step = 1000\n",
    "\n",
    "T = 25"
   ]
  },
  {
   "cell_type": "markdown",
   "metadata": {},
   "source": [
    "# Learing the NN on our field"
   ]
  },
  {
   "cell_type": "markdown",
   "metadata": {},
   "source": [
    "# learninig 2dim"
   ]
  },
  {
   "cell_type": "code",
   "execution_count": null,
   "metadata": {},
   "outputs": [],
   "source": [
    "t = time.time()\n",
    "for keep_prob in keep_probs:\n",
    "    for cnt in range(init_epochs):\n",
    "        epoch += 1\n",
    "\n",
    "        for batch in iterate_minibatches(X_train, y_train, batch_size):\n",
    "            X_batch, y_batch = batch\n",
    "            sess.run(train_step, feed_dict={x: X_batch, \n",
    "                                            y_: y_batch, \n",
    "                                            keep_probability_: keep_prob, \n",
    "                                            l2_reg_: l2_reg})\n",
    "        if (epoch+1) % check_step == 0:\n",
    "            print(np.round(time.time() - t, 2), end='s')\n",
    "            t = time.time()\n",
    "            preds_train = sess.run(y, feed_dict={x: X_train, keep_probability_: 1})\n",
    "            preds_test = sess.run(y, feed_dict= {x: X_test , keep_probability_: 1})\n",
    "\n",
    "            train_err =  get_errors(preds_train, y_train)\n",
    "            test_err =  get_errors(preds_test, y_test)\n",
    "            print(' &', np.round(time.time() - t, 2), 's')\n",
    "            print(epoch, np.round(train_err, 1), np.round(test_err, 1), end = '|')"
   ]
  },
  {
   "cell_type": "code",
   "execution_count": null,
   "metadata": {},
   "outputs": [],
   "source": [
    "def NN(x_test):\n",
    "    epoch = 0\n",
    "    for keep_prob in keep_probs:\n",
    "        for cnt in range(init_epochs):\n",
    "            epoch += 1\n",
    "\n",
    "            for batch in iterate_minibatches(x_test, y_train, batch_size):\n",
    "                X_batch, y_batch = batch\n",
    "                sess.run(train_step, feed_dict={x: X_batch, \n",
    "                                            y_: y_batch, \n",
    "                                            keep_probability_: keep_prob, \n",
    "                                            l2_reg_: l2_reg})"
   ]
  },
  {
   "cell_type": "markdown",
   "metadata": {},
   "source": [
    "# learning 8dim"
   ]
  },
  {
   "cell_type": "code",
   "execution_count": 57,
   "metadata": {},
   "outputs": [
    {
     "name": "stdout",
     "output_type": "stream",
     "text": [
      "317.33s & 0.17 s\n",
      "499 [ 55.0301  41.7212 156.3547]|338.66s & 0.16 s\n",
      "999 [ 47.9201  34.3969 143.6589]|408.77s & 0.17 s\n",
      "1499 [ 50.5458  36.5844 152.1008]|444.63s & 0.17 s\n",
      "1999 [ 47.7645  33.7384 150.8488]|411.23s & 0.17 s\n",
      "2499 [ 46.1096  31.7149 150.702 ]|422.58s & 0.2 s\n",
      "2999 [ 46.0821  31.5608 151.6046]|401.04s & 0.19 s\n",
      "3499 [ 45.7739  30.4897 154.0083]|423.96s & 0.18 s\n",
      "3999 [ 47.1858  32.6508 150.8652]|391.7s & 0.17 s\n",
      "4499 [ 48.2855  33.3813 151.9095]|348.67s & 0.18 s\n",
      "4999 [ 49.2816  34.8373 150.9129]|26056.18s & 0.15 s\n",
      "5499 [21.2155 15.0794 82.127 ]|322.86s & 0.16 s\n",
      "5999 [23.3636 15.8581 88.8108]|331.0s & 0.16 s\n",
      "6499 [25.2092 17.8719 88.8843]|393.3s & 0.19 s\n",
      "6999 [19.5977 11.7586 84.1304]|459.44s & 0.16 s\n",
      "7499 [23.5958 16.2908 89.1929]|423.0s & 0.17 s\n",
      "7999 [22.0852 13.4377 90.657 ]|430.94s & 0.17 s\n",
      "8499 [22.1368 13.6079 91.7918]|416.48s & 0.19 s\n",
      "8999 [21.9    13.9082 89.3457]|410.33s & 0.18 s\n",
      "9499 [20.1599 11.7293 89.1185]|356.74s & 0.19 s\n",
      "9999 [21.87   13.3769 90.1741]|2851.55s & 0.17 s\n",
      "10499 [ 7.1016  4.4913 43.8114]|351.3s & 0.17 s\n",
      "10999 [10.6058  7.0216 45.0699]|334.12s & 0.17 s\n",
      "11499 [ 9.5594  6.0887 44.1082]|353.96s & 0.18 s\n",
      "11999 [ 9.0634  5.8288 41.252 ]|407.91s & 0.17 s\n",
      "12499 [ 8.3257  5.2091 40.3295]|345.66s & 0.17 s\n",
      "12999 [11.5608  7.5369 40.5758]|343.95s & 0.17 s\n",
      "13499 [10.5253  6.7876 38.4772]|1564.36s & 0.17 s\n",
      "13999 [11.7165  7.5992 39.2425]|376.35s & 0.17 s\n",
      "14499 [ 8.3418  4.9746 37.5345]|335.14s & 0.16 s\n",
      "14999 [ 7.9302  4.455  37.5548]|"
     ]
    }
   ],
   "source": [
    "### 8_DIMENTIONAL ###\n",
    "\n",
    "t = time.time()\n",
    "for keep_prob in keep_probs:\n",
    "    for cnt in range(init_epochs):\n",
    "        epoch += 1\n",
    "\n",
    "        for batch in iterate_minibatches(X_train, y_train, batch_size):\n",
    "            X_batch, y_batch = batch\n",
    "            sess.run(train_step, feed_dict={x: X_batch, \n",
    "                                            y_: y_batch, \n",
    "                                            keep_probability_: keep_prob, \n",
    "                                            l2_reg_: l2_reg})\n",
    "        if (epoch+1) % check_step == 0:\n",
    "            print(np.round(time.time() - t, 2), end='s')\n",
    "            t = time.time()\n",
    "            preds_train = sess.run(y, feed_dict={x: X_train, keep_probability_: 1})\n",
    "            preds_test = sess.run(y, feed_dict= {x: X_test , keep_probability_: 1})\n",
    "\n",
    "            train_err =  get_errors(preds_train, y_train)\n",
    "            test_err =  get_errors(preds_test, y_test)\n",
    "            print(' &', np.round(time.time() - t, 2), 's')\n",
    "            print(epoch, np.round(train_err, 4), np.round(test_err, 4), end = '|')"
   ]
  },
  {
   "cell_type": "markdown",
   "metadata": {},
   "source": [
    "# Our result from NN"
   ]
  },
  {
   "cell_type": "code",
   "execution_count": 46,
   "metadata": {},
   "outputs": [],
   "source": [
    "def get_assessed_val(x_test):\n",
    "    m = preds_test = sess.run(y, feed_dict= {x: x_test , keep_probability_: 1})\n",
    "    s = get_mcdues(x_test)\n",
    "    return m, s"
   ]
  },
  {
   "cell_type": "markdown",
   "metadata": {},
   "source": [
    "# BO with GPyOpt     droppedout 8dim"
   ]
  },
  {
   "cell_type": "code",
   "execution_count": 47,
   "metadata": {},
   "outputs": [],
   "source": [
    "objective = GPyOpt.core.task.SingleObjective(func_8d.f)\n",
    "\n",
    "space = GPyOpt.Design_space(space =[{'name': 'var_1', 'type': 'continuous', 'domain': (0, 2)},\n",
    "                                    {'name': 'var_2', 'type': 'continuous', 'domain': (0, 2)},\n",
    "                                    {'name': 'var_3', 'type': 'continuous', 'domain': (0, 2)},\n",
    "                                    {'name': 'var_4', 'type': 'continuous', 'domain': (0, 2)},\n",
    "                                    {'name': 'var_5', 'type': 'continuous', 'domain': (0, 2)},\n",
    "                                    {'name': 'var_6', 'type': 'continuous', 'domain': (0, 2)},\n",
    "                                    {'name': 'var_7', 'type': 'continuous', 'domain': (0, 2)},\n",
    "                                    {'name': 'var_8', 'type': 'continuous', 'domain': (0, 2)}])\n",
    "\n",
    "model = GPyOpt.models.GPModel(optimize_restarts=5,verbose=False)\n",
    "\n",
    "aquisition_optimizer = GPyOpt.optimization.AcquisitionOptimizer(space)      #, optimizer='DIRECT')  #too long\n",
    "\n",
    "initial_design = GPyOpt.experiment_design.initial_design('random', space, 5)"
   ]
  },
  {
   "cell_type": "code",
   "execution_count": 48,
   "metadata": {},
   "outputs": [],
   "source": [
    "#VERSION 3.0\n",
    "from GPyOpt.acquisitions.base import AcquisitionBase\n",
    "from GPyOpt.acquisitions.EI import AcquisitionEI\n",
    "from scipy.special import erfc\n",
    "\n",
    "\n",
    "class Exp_impr(AcquisitionBase):\n",
    "    \n",
    "    analytical_gradient_prediction = False\n",
    "    \n",
    "    def __init__(self, model, space, optimizer=None, cost_withGradients=None):\n",
    "        super(Exp_impr, self).__init__(model, space, optimizer)\n",
    "\n",
    "        self.EI = AcquisitionEI(model, space, optimizer, cost_withGradients)\n",
    "    \n",
    "    def predict(self, x):\n",
    "        if x.ndim == 1:\n",
    "            x = x[None,:]\n",
    "        m, s = get_assessed_val(x)\n",
    "        s = np.clip(s, 1e-10, np.inf)\n",
    "        return -m, s\n",
    "    \n",
    "    def acquisition_function(self,x):\n",
    "        acqu_x = np.zeros((x.shape[0],1))\n",
    "\n",
    "        m, s = self.model.predict(x)\n",
    "        fmin = self.model.get_fmin()\n",
    "\n",
    "        if isinstance(s, np.ndarray):\n",
    "            s[s<1e-10] = 1e-10\n",
    "        elif s< 1e-10:\n",
    "            s = 1e-10\n",
    "        u = (fmin - m)/s\n",
    "        phi = np.exp(-0.5 * u**2) / np.sqrt(2*np.pi)\n",
    "        Phi = 0.5 * erfc(-u / np.sqrt(2))\n",
    "        \n",
    "        f_acqu = s * (u * Phi + phi)\n",
    "        cost_x, _ = self.cost_withGradients(x)\n",
    "        acqu_x = -(f_acqu*self.space.indicator_constraints(x))/cost_x\n",
    "       \n",
    "        return acqu_x"
   ]
  },
  {
   "cell_type": "code",
   "execution_count": 18,
   "metadata": {},
   "outputs": [],
   "source": [
    "### 8_DIMENTIONAL ###\n",
    "\n",
    "acquisition = Exp_impr(model, space, optimizer=aquisition_optimizer)\n",
    "evaluator = GPyOpt.core.evaluators.Sequential(acquisition)\n",
    "\n",
    "bo = GPyOpt.methods.ModularBayesianOptimization(model, space, objective, acquisition, evaluator, initial_design)"
   ]
  },
  {
   "cell_type": "code",
   "execution_count": 19,
   "metadata": {
    "scrolled": false
   },
   "outputs": [],
   "source": [
    "### 8_DIMENTIONAL ###\n",
    "\n",
    "max_iter = 1000\n",
    "max_time = 60 * 1\n",
    "eps = 1e-10\n",
    "\n",
    "bo.run_optimization(max_iter, max_time) #, eps) "
   ]
  },
  {
   "cell_type": "markdown",
   "metadata": {},
   "source": [
    "# BO with GPyOpt  itself 8dim"
   ]
  },
  {
   "cell_type": "code",
   "execution_count": 20,
   "metadata": {},
   "outputs": [],
   "source": [
    "### 8_DIMENTIONAL ###\n",
    "\n",
    "bounds =[{'name': 'var_1', 'type': 'continuous', 'domain': (0, 2)},\n",
    "         {'name': 'var_2', 'type': 'continuous', 'domain': (0, 2)},\n",
    "         {'name': 'var_3', 'type': 'continuous', 'domain': (0, 2)},\n",
    "         {'name': 'var_4', 'type': 'continuous', 'domain': (0, 2)},\n",
    "         {'name': 'var_5', 'type': 'continuous', 'domain': (0, 2)},\n",
    "         {'name': 'var_6', 'type': 'continuous', 'domain': (0, 2)},\n",
    "         {'name': 'var_7', 'type': 'continuous', 'domain': (0, 2)},\n",
    "         {'name': 'var_8', 'type': 'continuous', 'domain': (0, 2)}]\n",
    "\n",
    "bo_gpy = GPyOpt.methods.BayesianOptimization(func_8d.f,\n",
    "                                              domain=bounds,\n",
    "                                              model_type = 'GP',\n",
    "                                              acquisition_type='EI',  \n",
    "                                              normalize_Y = True,\n",
    "                                              acquisition_weight = 2)    "
   ]
  },
  {
   "cell_type": "code",
   "execution_count": 21,
   "metadata": {},
   "outputs": [],
   "source": [
    "### 8_DIMENTIONAL ###\n",
    "\n",
    "max_iter = 1500\n",
    "max_time = 60 * 1\n",
    "eps = 1e-10\n",
    "\n",
    "bo_gpy.run_optimization(max_iter, max_time, verbosity=False)            "
   ]
  },
  {
   "cell_type": "markdown",
   "metadata": {},
   "source": [
    "# BO_droppedNN 2dim"
   ]
  },
  {
   "cell_type": "code",
   "execution_count": 73,
   "metadata": {},
   "outputs": [],
   "source": [
    "# TWO_DIM\n",
    "\n",
    "objective = GPyOpt.core.task.SingleObjective(func.f)\n",
    "\n",
    "space = GPyOpt.Design_space(space =[{'name': 'var_1', 'type': 'continuous', 'domain': (0, 2)},\n",
    "                                    {'name': 'var_2', 'type': 'continuous', 'domain': (0, 2)}])\n",
    "\n",
    "model = GPyOpt.models.GPModel(optimize_restarts=5,verbose=False)\n",
    "\n",
    "aquisition_optimizer = GPyOpt.optimization.AcquisitionOptimizer(space)      #, optimizer='DIRECT')  #too long\n",
    "\n",
    "initial_design = GPyOpt.experiment_design.initial_design('random', space, 5)"
   ]
  },
  {
   "cell_type": "code",
   "execution_count": 74,
   "metadata": {},
   "outputs": [],
   "source": [
    "### TWO_DIMENTIONAL ###\n",
    "\n",
    "acquisition = Exp_impr(model, space, optimizer=aquisition_optimizer)\n",
    "evaluator = GPyOpt.core.evaluators.Sequential(acquisition)\n",
    "\n",
    "bo_2d = GPyOpt.methods.ModularBayesianOptimization(model, space, objective, acquisition, evaluator, initial_design)"
   ]
  },
  {
   "cell_type": "code",
   "execution_count": 75,
   "metadata": {},
   "outputs": [],
   "source": [
    "### TWO_DIMENTIONAL ###\n",
    "\n",
    "max_iter = 1000\n",
    "max_time = 60 * 25\n",
    "eps = 1e-10\n",
    "\n",
    "bo_2d.run_optimization(max_iter, max_time) #, eps) "
   ]
  },
  {
   "cell_type": "markdown",
   "metadata": {},
   "source": [
    "# GPyOpt 2dim"
   ]
  },
  {
   "cell_type": "code",
   "execution_count": 76,
   "metadata": {},
   "outputs": [],
   "source": [
    "### TWO_DIMENTIONAL ###\n",
    "\n",
    "bounds =[{'name': 'var_1', 'type': 'continuous', 'domain': (0, 2)},\n",
    "         {'name': 'var_2', 'type': 'continuous', 'domain': (0, 2)}]\n",
    "\n",
    "bo_gpy_2d = GPyOpt.methods.BayesianOptimization(func.f,\n",
    "                                              domain=bounds,\n",
    "                                              model_type = 'GP',\n",
    "                                              acquisition_type='EI',  \n",
    "                                              normalize_Y = True,\n",
    "                                              acquisition_weight = 2)    "
   ]
  },
  {
   "cell_type": "code",
   "execution_count": 77,
   "metadata": {},
   "outputs": [],
   "source": [
    "### TWO_DIMENTIONAL ###\n",
    "\n",
    "max_iter = 1000\n",
    "max_time = 60 * 25\n",
    "eps = 1e-10\n",
    "\n",
    "bo_gpy_2d.run_optimization(max_iter, max_time, verbosity=False)            "
   ]
  },
  {
   "cell_type": "markdown",
   "metadata": {},
   "source": [
    "# Comparizon of results"
   ]
  },
  {
   "cell_type": "code",
   "execution_count": 22,
   "metadata": {},
   "outputs": [
    {
     "name": "stdout",
     "output_type": "stream",
     "text": [
      "BO_dropNN:   x_min =  [0.57 0.32 0.   0.92 0.8  1.17 0.75 2.  ] f_min =  0.18857\n",
      "BO_GPyOpt:   x_min =  [1.15 1.29 0.35 1.   1.38 0.93 0.17 1.34] f_min =  0.23352\n"
     ]
    }
   ],
   "source": [
    "### 8_DIMENTIONAL ###\n",
    "\n",
    "print('BO_dropNN:   x_min = ', np.round(bo.x_opt, 2),     'f_min = ', np.round(bo.fx_opt, 5))\n",
    "print('BO_GPyOpt:   x_min = ', np.round(bo_gpy.x_opt, 2), 'f_min = ', np.round(bo_gpy.fx_opt, 5))"
   ]
  },
  {
   "cell_type": "code",
   "execution_count": 124,
   "metadata": {},
   "outputs": [
    {
     "name": "stdout",
     "output_type": "stream",
     "text": [
      "BO_dropNN:   x_min =  [1.01 1.02] f_min =  7e-05\n",
      "BO_GPyOpt:   x_min =  [1.1  1.23] f_min =  0.0127\n"
     ]
    }
   ],
   "source": [
    "### TWO_DIMENTIONAL ###\n",
    "\n",
    "print('BO_dropNN:   x_min = ', np.round(bo_2d.x_opt, 2),     'f_min = ', np.round(bo_2d.fx_opt, 5))\n",
    "print('BO_GPyOpt:   x_min = ', np.round(bo_gpy_2d.x_opt, 2), 'f_min = ', np.round(bo_gpy_2d.fx_opt, 5))"
   ]
  },
  {
   "cell_type": "code",
   "execution_count": 28,
   "metadata": {},
   "outputs": [],
   "source": [
    "def new_plot_convergence(bo_, bo_gpy_, filename = None):\n",
    "    \n",
    "    n = bo_.X.shape[0]\n",
    "    m = bo_gpy_.X.shape[0]\n",
    "    \n",
    "    plt.subplot(1, 1, 1)\n",
    "    \n",
    "    bo_.Y_best_minus =  - bo_.Y_best\n",
    "    bo_gpy_.Y_best_minus =  - bo_gpy_.Y_best\n",
    "    \n",
    "    plt.plot(list(range(n)), bo_.Y_best,'-o', label='1')\n",
    "    plt.plot(list(range(m)), bo_gpy_.Y_best,'-o', label='2')\n",
    "\n",
    "    \n",
    "    plt.title('Value of the best selected sample')\n",
    "    plt.xlabel('Iteration')\n",
    "    plt.ylabel('Best y')\n",
    "    grid(True)\n",
    "    \n",
    "    legend(('Bo_dropped_NN','Bo_GPy'))\n",
    "    \n",
    "\n",
    "    if filename!=None:\n",
    "        plt.loglog(basey = 10)\n",
    "        savefig(filename)\n",
    "    else:\n",
    "        plt.loglog(basey = 10)\n",
    "        plt.show()"
   ]
  },
  {
   "cell_type": "code",
   "execution_count": null,
   "metadata": {},
   "outputs": [],
   "source": [
    "### TWO_DIMENTIONAL ###\n",
    "\n",
    "new_plot_convergence(bo_2d, bo_gpy_2d, \"25m_rb\")"
   ]
  },
  {
   "cell_type": "code",
   "execution_count": 29,
   "metadata": {
    "scrolled": true
   },
   "outputs": [
    {
     "data": {
      "image/png": "[encoded data removed]",
      "text/plain": [
       "<Figure size 432x288 with 1 Axes>"
      ]
     },
     "metadata": {
      "needs_background": "light"
     },
     "output_type": "display_data"
    }
   ],
   "source": [
    "### 8_DIMENTIONAL ###\n",
    "\n",
    "new_plot_convergence(bo, bo_gpy, \"1m_8d_0,5kp\")"
   ]
  },
  {
   "cell_type": "markdown",
   "metadata": {},
   "source": [
    "# DIFFERENT"
   ]
  },
  {
   "cell_type": "code",
   "execution_count": null,
   "metadata": {},
   "outputs": [],
   "source": [
    "#print('BO_with_droppedoutNN: ')\n",
    "#bo.plot_acquisition()\n",
    "#print('BO_only_with_GPyOpt:  ')\n",
    "#bo_without_NN.plot_acquisition()\n",
    "\n",
    "#bo.plot_convergence()\n",
    "#bo_gpy.plot_convergence()"
   ]
  },
  {
   "cell_type": "code",
   "execution_count": null,
   "metadata": {},
   "outputs": [],
   "source": [
    "     '''\n",
    "        t_new = time.time()\n",
    "        if abs(t_new - self.t) > 30:\n",
    "            fx_opt = self.fx_opt\n",
    "            print(np.round(-self.t_global + t_new, 0), 's |', 'fmin = ', np.round(-fmin, 3))\n",
    "            self.t = time.time()\n",
    "     '''"
   ]
  },
  {
   "cell_type": "code",
   "execution_count": 127,
   "metadata": {},
   "outputs": [],
   "source": [
    "#JITTER VERSION\n",
    "\n",
    "from GPyOpt.acquisitions.base import AcquisitionBase\n",
    "from GPyOpt.acquisitions.EI import AcquisitionEI\n",
    "from numpy.random import beta\n",
    "from scipy.special import erfc\n",
    "\n",
    "\n",
    "class Exp_impr(AcquisitionBase):\n",
    "    \n",
    "    analytical_gradient_prediction = False\n",
    "    \n",
    "    def __init__(self, model, space, optimizer=None, cost_withGradients=None, par_a=1, par_b=1, num_samples= 10):\n",
    "        super(Exp_impr, self).__init__(model, space, optimizer)\n",
    "        \n",
    "        self.par_a = par_a\n",
    "        self.par_b = par_b\n",
    "        self.num_samples = num_samples\n",
    "        self.samples = beta(self.par_a,self.par_b,self.num_samples)\n",
    "        self.EI = AcquisitionEI(model, space, optimizer, cost_withGradients)\n",
    "        #self.t = time.time()\n",
    "        #self.t_global = self.t\n",
    "        \n",
    "    def compute_exp_impr(self, x):\n",
    "        jitter = self.EI.jitter\n",
    "        m, s = self.model.predict(x)\n",
    "        fmin = self.model.get_fmin()\n",
    "        phi, Phi, u = self.get_quantiles(jitter, fmin, m, s)\n",
    "        \n",
    "        f_acqu = s * (u * Phi + phi)\n",
    "        cost_x, _ = self.cost_withGradients(x)\n",
    "        return -(f_acqu*self.space.indicator_constraints(x))/cost_x\n",
    "    \n",
    "    def predict(self, x):\n",
    "        if x.ndim == 1:\n",
    "            x = x[None,:]\n",
    "        m, s = get_assessed_val(x)\n",
    "        s = np.clip(s, 1e-10, np.inf)\n",
    "        return -m, s\n",
    "\n",
    "    def get_quantiles(self, acquisition_par, fmin, m, s):\n",
    "    \n",
    "        if isinstance(s, np.ndarray):\n",
    "            s[s<1e-10] = 1e-10\n",
    "        elif s< 1e-10:\n",
    "            s = 1e-10\n",
    "        u = (fmin - m - acquisition_par)/s\n",
    "        phi = np.exp(-0.5 * u**2) / np.sqrt(2*np.pi)\n",
    "        Phi = 0.5 * erfc(-u / np.sqrt(2))\n",
    "        return (phi, Phi, u)\n",
    "    \n",
    "    def acquisition_function(self,x):\n",
    "        acqu_x = np.zeros((x.shape[0],1))       \n",
    "        for k in range(self.num_samples):\n",
    "            self.EI.jitter = self.samples[k]   \n",
    "            acqu_x = acqu_x + self.compute_exp_impr(x)        \n",
    "        return acqu_x/self.num_samples"
   ]
  },
  {
   "cell_type": "code",
   "execution_count": null,
   "metadata": {},
   "outputs": [],
   "source": [
    "acquisition = Exp_impr(model, space, optimizer=aquisition_optimizer, par_a=1, par_b=10, num_samples=200)\n",
    "evaluator = GPyOpt.core.evaluators.Sequential(acquisition)\n",
    "\n",
    "bo = GPyOpt.methods.ModularBayesianOptimization(model, space, objective, acquisition, evaluator, initial_design)"
   ]
  }
 ],
 "metadata": {
  "kernelspec": {
   "display_name": "Python 3",
   "language": "python",
   "name": "python3"
  },
  "language_info": {
   "codemirror_mode": {
    "name": "ipython",
    "version": 3
   },
   "file_extension": ".py",
   "mimetype": "text/x-python",
   "name": "python",
   "nbconvert_exporter": "python",
   "pygments_lexer": "ipython3",
   "version": "3.6.0"
  }
 },
 "nbformat": 4,
 "nbformat_minor": 2
}
